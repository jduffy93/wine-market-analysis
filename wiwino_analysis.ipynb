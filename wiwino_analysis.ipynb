{
 "cells": [
  {
   "cell_type": "code",
   "execution_count": 5,
   "metadata": {},
   "outputs": [],
   "source": [
    "# Import required libraries\n",
    "import sqlite3\n",
    "import pandas as pd\n",
    "\n",
    "# Connect to SQLite database\n",
    "conn = sqlite3.connect(r\"./db/vivino.db\")\n",
    "\n",
    "# Load CSV data into Pandas DataFrame\n",
    "# sales_data = pd.read_csv(\"./db/vivino.db\")\n",
    "# Write the data to a sqlite table\n",
    "# sales_data.to_sql(\"vivino\", conn, if_exists=\"replace\", index=False)\n",
    "\n",
    "# Create a cursor object\n",
    "cur = conn.cursor()\n"
   ]
  },
  {
   "cell_type": "code",
   "execution_count": 7,
   "metadata": {},
   "outputs": [
    {
     "data": {
      "text/plain": [
       "[('it', 'Italie', 563, 4270717, 274658, 42399),\n",
       " ('fr', 'France', 1306, 5973301, 422503, 67553),\n",
       " ('us', 'États-Unis', 362, 12273684, 204060, 28145),\n",
       " ('es', 'Espagne', 152, 2264396, 102662, 18026),\n",
       " ('pt', 'Portugal', 93, 1123535, 39847, 5834)]"
      ]
     },
     "execution_count": 7,
     "metadata": {},
     "output_type": "execute_result"
    }
   ],
   "source": [
    "cur.execute(\"\"\"\n",
    "            SELECT * \n",
    "            FROM countries\n",
    "            LIMIT 5;\n",
    "            \"\"\")\n",
    "cur.fetchall()\n"
   ]
  },
  {
   "cell_type": "code",
   "execution_count": 8,
   "metadata": {},
   "outputs": [
    {
     "data": {
      "text/html": [
       "<div>\n",
       "<style scoped>\n",
       "    .dataframe tbody tr th:only-of-type {\n",
       "        vertical-align: middle;\n",
       "    }\n",
       "\n",
       "    .dataframe tbody tr th {\n",
       "        vertical-align: top;\n",
       "    }\n",
       "\n",
       "    .dataframe thead th {\n",
       "        text-align: right;\n",
       "    }\n",
       "</style>\n",
       "<table border=\"1\" class=\"dataframe\">\n",
       "  <thead>\n",
       "    <tr style=\"text-align: right;\">\n",
       "      <th></th>\n",
       "      <th>code</th>\n",
       "      <th>name</th>\n",
       "      <th>regions_count</th>\n",
       "      <th>users_count</th>\n",
       "      <th>wines_count</th>\n",
       "      <th>wineries_count</th>\n",
       "    </tr>\n",
       "  </thead>\n",
       "  <tbody>\n",
       "    <tr>\n",
       "      <th>0</th>\n",
       "      <td>it</td>\n",
       "      <td>Italie</td>\n",
       "      <td>563</td>\n",
       "      <td>4270717</td>\n",
       "      <td>274658</td>\n",
       "      <td>42399</td>\n",
       "    </tr>\n",
       "    <tr>\n",
       "      <th>1</th>\n",
       "      <td>fr</td>\n",
       "      <td>France</td>\n",
       "      <td>1306</td>\n",
       "      <td>5973301</td>\n",
       "      <td>422503</td>\n",
       "      <td>67553</td>\n",
       "    </tr>\n",
       "    <tr>\n",
       "      <th>2</th>\n",
       "      <td>us</td>\n",
       "      <td>États-Unis</td>\n",
       "      <td>362</td>\n",
       "      <td>12273684</td>\n",
       "      <td>204060</td>\n",
       "      <td>28145</td>\n",
       "    </tr>\n",
       "    <tr>\n",
       "      <th>3</th>\n",
       "      <td>es</td>\n",
       "      <td>Espagne</td>\n",
       "      <td>152</td>\n",
       "      <td>2264396</td>\n",
       "      <td>102662</td>\n",
       "      <td>18026</td>\n",
       "    </tr>\n",
       "    <tr>\n",
       "      <th>4</th>\n",
       "      <td>pt</td>\n",
       "      <td>Portugal</td>\n",
       "      <td>93</td>\n",
       "      <td>1123535</td>\n",
       "      <td>39847</td>\n",
       "      <td>5834</td>\n",
       "    </tr>\n",
       "  </tbody>\n",
       "</table>\n",
       "</div>"
      ],
      "text/plain": [
       "  code        name  regions_count  users_count  wines_count  wineries_count\n",
       "0   it      Italie            563      4270717       274658           42399\n",
       "1   fr      France           1306      5973301       422503           67553\n",
       "2   us  États-Unis            362     12273684       204060           28145\n",
       "3   es     Espagne            152      2264396       102662           18026\n",
       "4   pt    Portugal             93      1123535        39847            5834"
      ]
     },
     "execution_count": 8,
     "metadata": {},
     "output_type": "execute_result"
    }
   ],
   "source": [
    "query = \"\"\"\n",
    "            SELECT * \n",
    "            FROM countries\n",
    "            LIMIT 5;\n",
    "            \"\"\"\n",
    "sales_df = pd.read_sql_query(query, conn)\n",
    "sales_df.head()\n"
   ]
  },
  {
   "cell_type": "code",
   "execution_count": null,
   "metadata": {},
   "outputs": [],
   "source": []
  }
 ],
 "metadata": {
  "kernelspec": {
   "display_name": "venv",
   "language": "python",
   "name": "python3"
  },
  "language_info": {
   "codemirror_mode": {
    "name": "ipython",
    "version": 3
   },
   "file_extension": ".py",
   "mimetype": "text/x-python",
   "name": "python",
   "nbconvert_exporter": "python",
   "pygments_lexer": "ipython3",
   "version": "3.12.1"
  }
 },
 "nbformat": 4,
 "nbformat_minor": 2
}
